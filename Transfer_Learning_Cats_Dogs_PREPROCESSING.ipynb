{
  "nbformat": 4,
  "nbformat_minor": 0,
  "metadata": {
    "colab": {
      "name": "Transfer_Learning_Cats_Dogs_PREPROCESSING.ipynb",
      "provenance": [],
      "collapsed_sections": [],
      "mount_file_id": "1tHH3Dwp-4na8kRsUrZ2vOrCBaWtcnWcw",
      "authorship_tag": "ABX9TyMn0jlb6qdzWUp7gnxURUff",
      "include_colab_link": true
    },
    "kernelspec": {
      "name": "python3",
      "display_name": "Python 3"
    },
    "language_info": {
      "name": "python"
    }
  },
  "cells": [
    {
      "cell_type": "markdown",
      "metadata": {
        "id": "view-in-github",
        "colab_type": "text"
      },
      "source": [
        "<a href=\"https://colab.research.google.com/github/ttoygar/CatsAndDogsTransferLearning/blob/main/Transfer_Learning_Cats_Dogs_PREPROCESSING.ipynb\" target=\"_parent\"><img src=\"https://colab.research.google.com/assets/colab-badge.svg\" alt=\"Open In Colab\"/></a>"
      ]
    },
    {
      "cell_type": "markdown",
      "source": [
        "## PREPROCESSING"
      ],
      "metadata": {
        "id": "L_tCEgkeqStz"
      }
    },
    {
      "cell_type": "code",
      "source": [
        "import numpy as np\n",
        "import os\n",
        "import cv2\n",
        "import tensorflow as tf\n",
        "from skimage.transform import resize as sk_resize\n",
        "from tqdm import tqdm\n",
        "import random\n",
        "from sklearn.model_selection import train_test_split\n",
        "import pickle"
      ],
      "metadata": {
        "id": "OZhqTONiTGOi"
      },
      "execution_count": 1,
      "outputs": []
    },
    {
      "cell_type": "code",
      "source": [
        "DATADIR = \"/content/drive/MyDrive/DATASCI/kagglecatsanddogs/PetImages\"\n",
        "CATEGORIES = (\"Dog\",\"Cat\")\n",
        "IMG_SIZE= 64 "
      ],
      "metadata": {
        "id": "YgoJzkgfrnul"
      },
      "execution_count": 2,
      "outputs": []
    },
    {
      "cell_type": "code",
      "source": [
        "training_data = []\n",
        "\n",
        "def create_training_data():\n",
        "    for category in CATEGORIES:\n",
        "        path = os.path.join(DATADIR, category)\n",
        "        label_index = CATEGORIES.index(category) # Dog:0 , Cat:1\n",
        "        for img in tqdm(os.listdir(path)):\n",
        "            try:\n",
        "                img_array = cv2.imread(os.path.join(path, img), cv2.IMREAD_GRAYSCALE)\n",
        "\n",
        "                # Resizing\n",
        "                new_array = cv2.resize(img_array, (IMG_SIZE, IMG_SIZE))\n",
        "                # new_array = sk_resize(img_array, (IMG_SIZE, IMG_SIZE))\n",
        "                # new_array = np.resize(img_array, (IMG_SIZE, IMG_SIZE))\n",
        "\n",
        "                # Normalization\n",
        "                new_array = new_array / 255.0\n",
        "                training_data.append([new_array, label_index])\n",
        "            except Exception as e:\n",
        "                # print(e)\n",
        "                pass\n",
        "\n",
        "create_training_data()"
      ],
      "metadata": {
        "colab": {
          "base_uri": "https://localhost:8080/"
        },
        "id": "qvlmoDaYj0wR",
        "outputId": "0f8e30e6-7337-4490-efd3-75623baa185f"
      },
      "execution_count": 3,
      "outputs": [
        {
          "output_type": "stream",
          "name": "stderr",
          "text": [
            "100%|██████████| 12500/12500 [01:00<00:00, 205.08it/s]\n",
            "100%|██████████| 12500/12500 [00:55<00:00, 226.36it/s]\n"
          ]
        }
      ]
    },
    {
      "cell_type": "code",
      "source": [
        "random.shuffle(training_data)"
      ],
      "metadata": {
        "id": "qvoAyZsEknOk"
      },
      "execution_count": 4,
      "outputs": []
    },
    {
      "cell_type": "code",
      "source": [
        "X = []\n",
        "y = []\n",
        "\n",
        "for features, label in training_data:\n",
        "    X.append(features)\n",
        "    y.append(label)\n",
        "\n",
        "X = np.array(X).reshape(-1, IMG_SIZE, IMG_SIZE, 1) # 1 for grayscale, 3 for RGB/BGR"
      ],
      "metadata": {
        "id": "M6I_4ygtknsb"
      },
      "execution_count": 5,
      "outputs": []
    },
    {
      "cell_type": "code",
      "source": [
        "# First Split\n",
        "X_temp, X_test, y_temp, y_test = train_test_split(X, y, test_size=0.15, random_state=46)"
      ],
      "metadata": {
        "id": "BQZzFoH5IgS0"
      },
      "execution_count": 6,
      "outputs": []
    },
    {
      "cell_type": "code",
      "source": [
        "# Second split\n",
        "X_train, X_val, y_train, y_val = train_test_split(X_temp, y_temp, test_size=0.15, random_state=46)"
      ],
      "metadata": {
        "id": "hirxRWFvN8qq"
      },
      "execution_count": 7,
      "outputs": []
    },
    {
      "cell_type": "code",
      "source": [
        "# Pickle Dumping\n",
        "with open(os.path.join(DATADIR, \"catsndogs.pickle\"),\"wb\") as f:\n",
        "    pickle.dump((X_train, y_train, X_val, y_val, X_test, y_test), f)\n"
      ],
      "metadata": {
        "id": "jgb2SLuFknvQ"
      },
      "execution_count": 8,
      "outputs": []
    },
    {
      "cell_type": "code",
      "source": [
        "# Pickle Loading\n",
        "\n",
        "# with open(os.path.join(DATADIR, \"catsndogs.pickle\"),\"rb\") as f:\n",
        "#     X_train, y_train, X_val, y_val, X_test, y_test = pickle.load(f)\n",
        "\n"
      ],
      "metadata": {
        "id": "VIWvZ_74oY3N"
      },
      "execution_count": 9,
      "outputs": []
    }
  ]
}