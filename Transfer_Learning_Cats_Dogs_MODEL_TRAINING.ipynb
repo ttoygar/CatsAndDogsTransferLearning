{
  "nbformat": 4,
  "nbformat_minor": 0,
  "metadata": {
    "colab": {
      "name": "Transfer_Learning_Cats_Dogs_MODEL_TRAINING.ipynb",
      "provenance": [],
      "collapsed_sections": [],
      "mount_file_id": "1h2x-vNEbFdKNmHrmF1rs845Fq80a0DNq",
      "authorship_tag": "ABX9TyP+3gIhXBQnd3WDCmCmolLr",
      "include_colab_link": true
    },
    "kernelspec": {
      "name": "python3",
      "display_name": "Python 3"
    },
    "language_info": {
      "name": "python"
    },
    "accelerator": "GPU",
    "gpuClass": "standard"
  },
  "cells": [
    {
      "cell_type": "markdown",
      "metadata": {
        "id": "view-in-github",
        "colab_type": "text"
      },
      "source": [
        "<a href=\"https://colab.research.google.com/github/ttoygar/CatsAndDogsTransferLearning/blob/main/Transfer_Learning_Cats_Dogs_MODEL_TRAINING.ipynb\" target=\"_parent\"><img src=\"https://colab.research.google.com/assets/colab-badge.svg\" alt=\"Open In Colab\"/></a>"
      ]
    },
    {
      "cell_type": "code",
      "execution_count": 1,
      "metadata": {
        "id": "DPUi8ZMbjHya"
      },
      "outputs": [],
      "source": [
        "import os\n",
        "import pickle\n",
        "import matplotlib.pyplot as plt\n",
        "\n",
        "import tensorflow as tf\n",
        "from tensorflow.keras.models import Sequential\n",
        "from tensorflow.keras.layers import Dense\n",
        "\n",
        "from tensorflow.keras.applications import ResNet50"
      ]
    },
    {
      "cell_type": "code",
      "source": [
        "# DATADIR = \"/content/drive/MyDrive/DATASCI/kagglecatsanddogs/PetImages\"\n",
        "\n",
        "# with open(os.path.join(DATADIR, \"catsndogs.pickle\"),\"rb\") as f:\n",
        "#     data = pickle.load(f)\n",
        "\n",
        "# X_train = data[\"X_train\"]\n",
        "# X_test = data[\"X_test\"]\n",
        "# X_val = data[\"X_val\"]\n",
        "# y_train = data[\"y_train\"]\n",
        "# y_test = data[\"y_test\"]\n",
        "# y_val = data[\"y_val\"]"
      ],
      "metadata": {
        "id": "GUy1OquPnHlG"
      },
      "execution_count": 2,
      "outputs": []
    },
    {
      "cell_type": "code",
      "source": [
        "X_train = pickle.load(open(\"/content/drive/MyDrive/DATASCI/kagglecatsanddogs/pickles/X_train.pickle\", \"rb\"))\n",
        "y_train = pickle.load(open(\"/content/drive/MyDrive/DATASCI/kagglecatsanddogs/pickles/y_train.pickle\", \"rb\"))\n",
        "\n",
        "X_val = pickle.load(open(\"/content/drive/MyDrive/DATASCI/kagglecatsanddogs/pickles/X_val.pickle\", \"rb\"))\n",
        "y_val = pickle.load(open(\"/content/drive/MyDrive/DATASCI/kagglecatsanddogs/pickles/y_val.pickle\", \"rb\"))\n",
        "\n",
        "X_test = pickle.load(open(\"/content/drive/MyDrive/DATASCI/kagglecatsanddogs/pickles/X_test.pickle\", \"rb\"))\n",
        "y_test = pickle.load(open(\"/content/drive/MyDrive/DATASCI/kagglecatsanddogs/pickles/y_test.pickle\", \"rb\"))"
      ],
      "metadata": {
        "id": "Qaq01Sa8FfXy"
      },
      "execution_count": 3,
      "outputs": []
    },
    {
      "cell_type": "code",
      "source": [
        "IMG_SIZE = 64\n",
        "NUM_CLASSES = 2\n",
        "INPUT_SHAPE = (128,128,3)"
      ],
      "metadata": {
        "id": "AKXE3STaHhwI"
      },
      "execution_count": 4,
      "outputs": []
    },
    {
      "cell_type": "code",
      "source": [
        "model = Sequential()\n",
        "model.add(ResNet50(include_top=False, pooling='max', input_shape=INPUT_SHAPE))\n",
        "model.add(Dense(1, activation='sigmoid'))\n",
        "model.layers[0].trainable = False"
      ],
      "metadata": {
        "id": "t64lWWnskEwe",
        "colab": {
          "base_uri": "https://localhost:8080/"
        },
        "outputId": "379eb533-7893-4b61-853b-30b4d8165560"
      },
      "execution_count": 5,
      "outputs": [
        {
          "output_type": "stream",
          "name": "stdout",
          "text": [
            "Downloading data from https://storage.googleapis.com/tensorflow/keras-applications/resnet/resnet50_weights_tf_dim_ordering_tf_kernels_notop.h5\n",
            "94773248/94765736 [==============================] - 0s 0us/step\n",
            "94781440/94765736 [==============================] - 1s 0us/step\n"
          ]
        }
      ]
    },
    {
      "cell_type": "code",
      "source": [
        "model.compile(optimizer='adam', loss='binary_crossentropy', metrics=['accuracy'])"
      ],
      "metadata": {
        "id": "XuJfQas9tst4"
      },
      "execution_count": 6,
      "outputs": []
    },
    {
      "cell_type": "code",
      "source": [
        "model.summary()"
      ],
      "metadata": {
        "id": "NQy7kJAZmHD-",
        "colab": {
          "base_uri": "https://localhost:8080/"
        },
        "outputId": "5ba4abab-5ff3-43eb-e0fa-a57c684cc29b"
      },
      "execution_count": 8,
      "outputs": [
        {
          "output_type": "stream",
          "name": "stdout",
          "text": [
            "Model: \"sequential\"\n",
            "_________________________________________________________________\n",
            " Layer (type)                Output Shape              Param #   \n",
            "=================================================================\n",
            " resnet50 (Functional)       (None, 2048)              23587712  \n",
            "                                                                 \n",
            " dense (Dense)               (None, 1)                 2049      \n",
            "                                                                 \n",
            "=================================================================\n",
            "Total params: 23,589,761\n",
            "Trainable params: 2,049\n",
            "Non-trainable params: 23,587,712\n",
            "_________________________________________________________________\n"
          ]
        }
      ]
    },
    {
      "cell_type": "code",
      "source": [
        "y_val.shape"
      ],
      "metadata": {
        "colab": {
          "base_uri": "https://localhost:8080/"
        },
        "id": "SuD5gjL3LFGt",
        "outputId": "010310ab-d1a7-41e2-c8a0-427cca85db05"
      },
      "execution_count": 9,
      "outputs": [
        {
          "output_type": "execute_result",
          "data": {
            "text/plain": [
              "(200,)"
            ]
          },
          "metadata": {},
          "execution_count": 9
        }
      ]
    },
    {
      "cell_type": "code",
      "source": [
        "train_model = model.fit(\n",
        "    X_train, \n",
        "    y_train,\n",
        "    batch_size=128,\n",
        "    epochs=25,\n",
        "    verbose=1,\n",
        "    validation_data=(X_val, y_val)\n",
        ")"
      ],
      "metadata": {
        "id": "-Qxx_WohmKSW",
        "colab": {
          "base_uri": "https://localhost:8080/"
        },
        "outputId": "441b2bcb-efc4-4127-d00c-44108b3f685b"
      },
      "execution_count": 19,
      "outputs": [
        {
          "output_type": "stream",
          "name": "stdout",
          "text": [
            "Epoch 1/25\n",
            "13/13 [==============================] - 5s 213ms/step - loss: 0.5390 - accuracy: 0.7375 - val_loss: 0.5681 - val_accuracy: 0.7050\n",
            "Epoch 2/25\n",
            "13/13 [==============================] - 2s 142ms/step - loss: 0.5385 - accuracy: 0.7369 - val_loss: 0.5691 - val_accuracy: 0.7000\n",
            "Epoch 3/25\n",
            "13/13 [==============================] - 2s 141ms/step - loss: 0.5378 - accuracy: 0.7406 - val_loss: 0.5683 - val_accuracy: 0.7100\n",
            "Epoch 4/25\n",
            "13/13 [==============================] - 2s 141ms/step - loss: 0.5379 - accuracy: 0.7394 - val_loss: 0.5682 - val_accuracy: 0.7050\n",
            "Epoch 5/25\n",
            "13/13 [==============================] - 2s 142ms/step - loss: 0.5381 - accuracy: 0.7412 - val_loss: 0.5704 - val_accuracy: 0.7050\n",
            "Epoch 6/25\n",
            "13/13 [==============================] - 2s 142ms/step - loss: 0.5377 - accuracy: 0.7375 - val_loss: 0.5684 - val_accuracy: 0.7100\n",
            "Epoch 7/25\n",
            "13/13 [==============================] - 2s 145ms/step - loss: 0.5370 - accuracy: 0.7400 - val_loss: 0.5685 - val_accuracy: 0.6950\n",
            "Epoch 8/25\n",
            "13/13 [==============================] - 2s 144ms/step - loss: 0.5361 - accuracy: 0.7394 - val_loss: 0.5679 - val_accuracy: 0.7100\n",
            "Epoch 9/25\n",
            "13/13 [==============================] - 2s 144ms/step - loss: 0.5353 - accuracy: 0.7387 - val_loss: 0.5667 - val_accuracy: 0.7100\n",
            "Epoch 10/25\n",
            "13/13 [==============================] - 2s 146ms/step - loss: 0.5357 - accuracy: 0.7412 - val_loss: 0.5678 - val_accuracy: 0.7000\n",
            "Epoch 11/25\n",
            "13/13 [==============================] - 2s 150ms/step - loss: 0.5357 - accuracy: 0.7400 - val_loss: 0.5674 - val_accuracy: 0.7050\n",
            "Epoch 12/25\n",
            "13/13 [==============================] - 2s 153ms/step - loss: 0.5344 - accuracy: 0.7331 - val_loss: 0.5669 - val_accuracy: 0.7050\n",
            "Epoch 13/25\n",
            "13/13 [==============================] - 2s 147ms/step - loss: 0.5349 - accuracy: 0.7394 - val_loss: 0.5684 - val_accuracy: 0.7000\n",
            "Epoch 14/25\n",
            "13/13 [==============================] - 2s 147ms/step - loss: 0.5332 - accuracy: 0.7381 - val_loss: 0.5664 - val_accuracy: 0.7050\n",
            "Epoch 15/25\n",
            "13/13 [==============================] - 2s 149ms/step - loss: 0.5333 - accuracy: 0.7362 - val_loss: 0.5676 - val_accuracy: 0.7150\n",
            "Epoch 16/25\n",
            "13/13 [==============================] - 2s 149ms/step - loss: 0.5319 - accuracy: 0.7381 - val_loss: 0.5668 - val_accuracy: 0.7050\n",
            "Epoch 17/25\n",
            "13/13 [==============================] - 2s 150ms/step - loss: 0.5317 - accuracy: 0.7400 - val_loss: 0.5659 - val_accuracy: 0.7050\n",
            "Epoch 18/25\n",
            "13/13 [==============================] - 2s 151ms/step - loss: 0.5317 - accuracy: 0.7419 - val_loss: 0.5674 - val_accuracy: 0.7100\n",
            "Epoch 19/25\n",
            "13/13 [==============================] - 2s 150ms/step - loss: 0.5313 - accuracy: 0.7419 - val_loss: 0.5669 - val_accuracy: 0.7150\n",
            "Epoch 20/25\n",
            "13/13 [==============================] - 2s 149ms/step - loss: 0.5319 - accuracy: 0.7375 - val_loss: 0.5669 - val_accuracy: 0.7150\n",
            "Epoch 21/25\n",
            "13/13 [==============================] - 2s 150ms/step - loss: 0.5304 - accuracy: 0.7437 - val_loss: 0.5666 - val_accuracy: 0.7050\n",
            "Epoch 22/25\n",
            "13/13 [==============================] - 2s 150ms/step - loss: 0.5303 - accuracy: 0.7419 - val_loss: 0.5666 - val_accuracy: 0.7150\n",
            "Epoch 23/25\n",
            "13/13 [==============================] - 2s 150ms/step - loss: 0.5294 - accuracy: 0.7419 - val_loss: 0.5668 - val_accuracy: 0.7150\n",
            "Epoch 24/25\n",
            "13/13 [==============================] - 2s 148ms/step - loss: 0.5291 - accuracy: 0.7481 - val_loss: 0.5664 - val_accuracy: 0.7100\n",
            "Epoch 25/25\n",
            "13/13 [==============================] - 2s 148ms/step - loss: 0.5291 - accuracy: 0.7400 - val_loss: 0.5677 - val_accuracy: 0.7150\n"
          ]
        }
      ]
    },
    {
      "cell_type": "code",
      "source": [
        "model.evaluate(X_test, y_test)"
      ],
      "metadata": {
        "id": "DrQwKIViZP6L",
        "colab": {
          "base_uri": "https://localhost:8080/"
        },
        "outputId": "7b115f1a-10f6-4d8b-efff-61d3f3327d1b"
      },
      "execution_count": 20,
      "outputs": [
        {
          "output_type": "stream",
          "name": "stdout",
          "text": [
            "7/7 [==============================] - 0s 45ms/step - loss: 0.6160 - accuracy: 0.6900\n"
          ]
        },
        {
          "output_type": "execute_result",
          "data": {
            "text/plain": [
              "[0.6160270571708679, 0.6899999976158142]"
            ]
          },
          "metadata": {},
          "execution_count": 20
        }
      ]
    },
    {
      "cell_type": "code",
      "source": [
        "plt.plot(train_model.history[\"loss\"], label=\"Train\")\n",
        "plt.plot(train_model.history[\"val_loss\"], label=\"Validation\")\n",
        "\n",
        "plt.xlabel(\"Epochs\")\n",
        "plt.ylabel(\"loss\")\n",
        "\n",
        "plt.legend()\n",
        "plt.show()"
      ],
      "metadata": {
        "colab": {
          "base_uri": "https://localhost:8080/",
          "height": 279
        },
        "id": "3Owgvik5MpMV",
        "outputId": "fb90d2c0-c80f-45fc-997f-7318b32b5ec4"
      },
      "execution_count": 21,
      "outputs": [
        {
          "output_type": "display_data",
          "data": {
            "text/plain": [
              "<Figure size 432x288 with 1 Axes>"
            ],
            "image/png": "[encoded data removed]"
          },
          "metadata": {
            "needs_background": "light"
          }
        }
      ]
    },
    {
      "cell_type": "code",
      "source": [
        "plt.plot(train_model.history[\"accuracy\"], label=\"Train\")\n",
        "plt.plot(train_model.history[\"val_accuracy\"], label=\"Validation\")\n",
        "\n",
        "plt.xlabel(\"Epochs\")\n",
        "plt.ylabel(\"Accuracy\")\n",
        "\n",
        "plt.legend()\n",
        "plt.show()"
      ],
      "metadata": {
        "colab": {
          "base_uri": "https://localhost:8080/",
          "height": 280
        },
        "id": "O70nrZDjMpBs",
        "outputId": "fe787e66-948d-4fd8-c7e7-70cfae922fb7"
      },
      "execution_count": 22,
      "outputs": [
        {
          "output_type": "display_data",
          "data": {
            "text/plain": [
              "<Figure size 432x288 with 1 Axes>"
            ],
            "image/png": "[encoded data removed]"
          },
          "metadata": {
            "needs_background": "light"
          }
        }
      ]
    },
    {
      "cell_type": "code",
      "source": [
        "model.save(\"catsanddogs_model\")"
      ],
      "metadata": {
        "id": "v_8naiNkMo-9"
      },
      "execution_count": 24,
      "outputs": []
    },
    {
      "cell_type": "code",
      "source": [],
      "metadata": {
        "id": "XASsDw5KJIcN"
      },
      "execution_count": null,
      "outputs": []
    }
  ]
}