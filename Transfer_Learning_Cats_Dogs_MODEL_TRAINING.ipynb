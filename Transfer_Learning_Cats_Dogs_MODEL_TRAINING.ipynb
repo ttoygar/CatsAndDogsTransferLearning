{
  "nbformat": 4,
  "nbformat_minor": 0,
  "metadata": {
    "colab": {
      "name": "Transfer_Learning_Cats_Dogs_MODEL_TRAINING.ipynb",
      "provenance": [],
      "collapsed_sections": [],
      "mount_file_id": "1h2x-vNEbFdKNmHrmF1rs845Fq80a0DNq",
      "authorship_tag": "ABX9TyOel7zcrnhEaFXKqpDf1Flo",
      "include_colab_link": true
    },
    "kernelspec": {
      "name": "python3",
      "display_name": "Python 3"
    },
    "language_info": {
      "name": "python"
    },
    "accelerator": "GPU",
    "gpuClass": "standard"
  },
  "cells": [
    {
      "cell_type": "markdown",
      "metadata": {
        "id": "view-in-github",
        "colab_type": "text"
      },
      "source": [
        "<a href=\"https://colab.research.google.com/github/ttoygar/CatsAndDogsTransferLearning/blob/main/Transfer_Learning_Cats_Dogs_MODEL_TRAINING.ipynb\" target=\"_parent\"><img src=\"https://colab.research.google.com/assets/colab-badge.svg\" alt=\"Open In Colab\"/></a>"
      ]
    },
    {
      "cell_type": "code",
      "execution_count": 1,
      "metadata": {
        "id": "DPUi8ZMbjHya"
      },
      "outputs": [],
      "source": [
        "import os\n",
        "import pickle\n",
        "import matplotlib.pyplot as plt\n",
        "\n",
        "import tensorflow as tf\n",
        "from tensorflow.keras.models import Sequential\n",
        "from tensorflow.keras.layers import Dense\n",
        "\n",
        "from tensorflow.keras.applications import ResNet50"
      ]
    },
    {
      "cell_type": "code",
      "source": [
        "DATADIR = \"/content/drive/MyDrive/DATASCI/kagglecatsanddogs/PetImages\"\n",
        "\n",
        "with open(os.path.join(DATADIR, \"catsndogs.pickle\"),\"rb\") as f:\n",
        "    data = pickle.load(f)\n",
        "\n",
        "X_train = data[\"X_train\"]\n",
        "X_test = data[\"X_test\"]\n",
        "X_val = data[\"X_val\"]\n",
        "y_train = data[\"y_train\"]\n",
        "y_test = data[\"y_test\"]\n",
        "y_val = data[\"y_val\"]"
      ],
      "metadata": {
        "id": "GUy1OquPnHlG"
      },
      "execution_count": 2,
      "outputs": []
    },
    {
      "cell_type": "code",
      "source": [
        "IMG_SIZE = 64\n",
        "NUM_CLASSES = 2\n",
        "INPUT_SHAPE = (64,64,3)"
      ],
      "metadata": {
        "id": "AKXE3STaHhwI"
      },
      "execution_count": 3,
      "outputs": []
    },
    {
      "cell_type": "code",
      "source": [
        "model = Sequential()\n",
        "model.add(ResNet50(include_top=False, pooling='max', input_shape=INPUT_SHAPE))\n",
        "model.add(Dense(1, activation='sigmoid'))\n",
        "model.layers[0].trainable = True"
      ],
      "metadata": {
        "id": "t64lWWnskEwe",
        "colab": {
          "base_uri": "https://localhost:8080/"
        },
        "outputId": "6deed68d-d4eb-46f1-a1b3-e0a0eef09e79"
      },
      "execution_count": 4,
      "outputs": [
        {
          "output_type": "stream",
          "name": "stdout",
          "text": [
            "Downloading data from https://storage.googleapis.com/tensorflow/keras-applications/resnet/resnet50_weights_tf_dim_ordering_tf_kernels_notop.h5\n",
            "94773248/94765736 [==============================] - 0s 0us/step\n",
            "94781440/94765736 [==============================] - 0s 0us/step\n"
          ]
        }
      ]
    },
    {
      "cell_type": "code",
      "source": [
        "model.compile(optimizer='sgd', loss='binary_crossentropy', metrics=['accuracy'])"
      ],
      "metadata": {
        "id": "XuJfQas9tst4"
      },
      "execution_count": 5,
      "outputs": []
    },
    {
      "cell_type": "code",
      "source": [
        "# model.compile(\n",
        "#     optimizer='adam',\n",
        "#     loss=tf.keras.losses.SparseCategoricalCrossentropy(from_logits=True),\n",
        "#     metrics=['accuracy']\n",
        "# )"
      ],
      "metadata": {
        "id": "vfO5NB8HlyZG"
      },
      "execution_count": 6,
      "outputs": []
    },
    {
      "cell_type": "code",
      "source": [
        "model.summary()"
      ],
      "metadata": {
        "id": "NQy7kJAZmHD-",
        "colab": {
          "base_uri": "https://localhost:8080/"
        },
        "outputId": "f03b0236-a197-40ee-e49e-6e20429107de"
      },
      "execution_count": 7,
      "outputs": [
        {
          "output_type": "stream",
          "name": "stdout",
          "text": [
            "Model: \"sequential\"\n",
            "_________________________________________________________________\n",
            " Layer (type)                Output Shape              Param #   \n",
            "=================================================================\n",
            " resnet50 (Functional)       (None, 2048)              23587712  \n",
            "                                                                 \n",
            " dense (Dense)               (None, 1)                 2049      \n",
            "                                                                 \n",
            "=================================================================\n",
            "Total params: 23,589,761\n",
            "Trainable params: 23,536,641\n",
            "Non-trainable params: 53,120\n",
            "_________________________________________________________________\n"
          ]
        }
      ]
    },
    {
      "cell_type": "code",
      "source": [
        "y_val.shape"
      ],
      "metadata": {
        "colab": {
          "base_uri": "https://localhost:8080/"
        },
        "id": "SuD5gjL3LFGt",
        "outputId": "61a2f14c-80fb-4767-ee60-2e9a8a652044"
      },
      "execution_count": 8,
      "outputs": [
        {
          "output_type": "execute_result",
          "data": {
            "text/plain": [
              "(3696,)"
            ]
          },
          "metadata": {},
          "execution_count": 8
        }
      ]
    },
    {
      "cell_type": "code",
      "source": [
        "train_model = model.fit(\n",
        "    X_train, \n",
        "    y_train,\n",
        "    batch_size=64,\n",
        "    epochs=20,\n",
        "    verbose=1,\n",
        "    validation_data=(X_val, y_val)\n",
        ")"
      ],
      "metadata": {
        "id": "-Qxx_WohmKSW",
        "colab": {
          "base_uri": "https://localhost:8080/"
        },
        "outputId": "2931cb9b-74ff-435e-e384-a644eb4d496e"
      },
      "execution_count": 9,
      "outputs": [
        {
          "output_type": "stream",
          "name": "stdout",
          "text": [
            "Epoch 1/20\n",
            "274/274 [==============================] - 40s 84ms/step - loss: nan - accuracy: 0.4991 - val_loss: nan - val_accuracy: 0.5092\n",
            "Epoch 2/20\n",
            "274/274 [==============================] - 21s 77ms/step - loss: nan - accuracy: 0.4989 - val_loss: nan - val_accuracy: 0.5092\n",
            "Epoch 3/20\n",
            "274/274 [==============================] - 21s 76ms/step - loss: nan - accuracy: 0.4989 - val_loss: nan - val_accuracy: 0.5092\n",
            "Epoch 4/20\n",
            "274/274 [==============================] - 21s 77ms/step - loss: nan - accuracy: 0.4989 - val_loss: nan - val_accuracy: 0.5092\n",
            "Epoch 5/20\n",
            "274/274 [==============================] - 21s 76ms/step - loss: nan - accuracy: 0.4989 - val_loss: nan - val_accuracy: 0.5092\n",
            "Epoch 6/20\n",
            "274/274 [==============================] - 21s 77ms/step - loss: nan - accuracy: 0.4989 - val_loss: nan - val_accuracy: 0.5092\n",
            "Epoch 7/20\n",
            "274/274 [==============================] - 23s 85ms/step - loss: nan - accuracy: 0.4989 - val_loss: nan - val_accuracy: 0.5092\n",
            "Epoch 8/20\n",
            "274/274 [==============================] - 24s 86ms/step - loss: nan - accuracy: 0.4989 - val_loss: nan - val_accuracy: 0.5092\n",
            "Epoch 9/20\n",
            "274/274 [==============================] - 22s 81ms/step - loss: nan - accuracy: 0.4989 - val_loss: nan - val_accuracy: 0.5092\n",
            "Epoch 10/20\n",
            "274/274 [==============================] - 21s 78ms/step - loss: nan - accuracy: 0.4989 - val_loss: nan - val_accuracy: 0.5092\n",
            "Epoch 11/20\n",
            "274/274 [==============================] - 21s 78ms/step - loss: nan - accuracy: 0.4989 - val_loss: nan - val_accuracy: 0.5092\n",
            "Epoch 12/20\n",
            "274/274 [==============================] - 21s 78ms/step - loss: nan - accuracy: 0.4989 - val_loss: nan - val_accuracy: 0.5092\n",
            "Epoch 13/20\n",
            "274/274 [==============================] - 22s 79ms/step - loss: nan - accuracy: 0.4989 - val_loss: nan - val_accuracy: 0.5092\n",
            "Epoch 14/20\n",
            "274/274 [==============================] - 21s 78ms/step - loss: nan - accuracy: 0.4989 - val_loss: nan - val_accuracy: 0.5092\n",
            "Epoch 15/20\n",
            "274/274 [==============================] - 22s 79ms/step - loss: nan - accuracy: 0.4989 - val_loss: nan - val_accuracy: 0.5092\n",
            "Epoch 16/20\n",
            "274/274 [==============================] - 21s 78ms/step - loss: nan - accuracy: 0.4989 - val_loss: nan - val_accuracy: 0.5092\n",
            "Epoch 17/20\n",
            "274/274 [==============================] - 21s 78ms/step - loss: nan - accuracy: 0.4989 - val_loss: nan - val_accuracy: 0.5092\n",
            "Epoch 18/20\n",
            "274/274 [==============================] - 21s 78ms/step - loss: nan - accuracy: 0.4989 - val_loss: nan - val_accuracy: 0.5092\n",
            "Epoch 19/20\n",
            "274/274 [==============================] - 21s 78ms/step - loss: nan - accuracy: 0.4989 - val_loss: nan - val_accuracy: 0.5092\n",
            "Epoch 20/20\n",
            "274/274 [==============================] - 22s 79ms/step - loss: nan - accuracy: 0.4989 - val_loss: nan - val_accuracy: 0.5092\n"
          ]
        }
      ]
    },
    {
      "cell_type": "code",
      "source": [
        "train_model.evaluate(X_test, y_test)"
      ],
      "metadata": {
        "id": "DrQwKIViZP6L"
      },
      "execution_count": 13,
      "outputs": []
    },
    {
      "cell_type": "code",
      "source": [
        "plt.plot(train_model.history[\"loss\"], label=\"Train\")\n",
        "plt.plot(train_model.history[\"val_loss\"], label=\"Validation\")\n",
        "\n",
        "plt.xlabel(\"Epochs\")\n",
        "plt.ylabel(\"loss\")\n",
        "\n",
        "plt.legend()\n",
        "plt.show()"
      ],
      "metadata": {
        "colab": {
          "base_uri": "https://localhost:8080/",
          "height": 279
        },
        "id": "3Owgvik5MpMV",
        "outputId": "b04d7c9e-4de8-49a5-89fe-badcfa061588"
      },
      "execution_count": 11,
      "outputs": [
        {
          "output_type": "display_data",
          "data": {
            "text/plain": [
              "<Figure size 432x288 with 1 Axes>"
            ],
            "image/png": "[encoded data removed]"
          },
          "metadata": {
            "needs_background": "light"
          }
        }
      ]
    },
    {
      "cell_type": "code",
      "source": [
        "plt.plot(train_model.history[\"accuracy\"], label=\"Train\")\n",
        "plt.plot(train_model.history[\"val_accuracy\"], label=\"Validation\")\n",
        "\n",
        "plt.xlabel(\"Epochs\")\n",
        "plt.ylabel(\"Accuracy\")\n",
        "\n",
        "plt.legend()\n",
        "plt.show()"
      ],
      "metadata": {
        "colab": {
          "base_uri": "https://localhost:8080/",
          "height": 279
        },
        "id": "O70nrZDjMpBs",
        "outputId": "8e72ae28-c11e-4422-aee1-2cb59803cb3b"
      },
      "execution_count": 12,
      "outputs": [
        {
          "output_type": "display_data",
          "data": {
            "text/plain": [
              "<Figure size 432x288 with 1 Axes>"
            ],
            "image/png": "[encoded data removed]"
          },
          "metadata": {
            "needs_background": "light"
          }
        }
      ]
    },
    {
      "cell_type": "code",
      "source": [
        "with open(\"catsanddogs_model.pickle\", \"wr\") as f:\n",
        "    pickle.dump(train_model, f)"
      ],
      "metadata": {
        "id": "v_8naiNkMo-9"
      },
      "execution_count": 13,
      "outputs": []
    }
  ]
}